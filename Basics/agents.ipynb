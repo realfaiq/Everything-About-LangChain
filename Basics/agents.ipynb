{
 "cells": [
  {
   "cell_type": "code",
   "execution_count": 1,
   "metadata": {},
   "outputs": [],
   "source": [
    "from langchain_community.document_loaders import WebBaseLoader\n",
    "loader = WebBaseLoader(\"https://docs.smith.langchain.com/overview\")\n",
    "\n",
    "docs = loader.load()"
   ]
  },
  {
   "cell_type": "code",
   "execution_count": 2,
   "metadata": {},
   "outputs": [],
   "source": [
    "from langchain_openai import OpenAIEmbeddings\n",
    "\n",
    "embeddings = OpenAIEmbeddings()"
   ]
  },
  {
   "cell_type": "code",
   "execution_count": 3,
   "metadata": {},
   "outputs": [],
   "source": [
    "from langchain_community.vectorstores import FAISS\n",
    "from langchain.text_splitter import RecursiveCharacterTextSplitter\n",
    "\n",
    "\n",
    "text_splitter = RecursiveCharacterTextSplitter()\n",
    "documents = text_splitter.split_documents(docs)\n",
    "vector = FAISS.from_documents(documents, embeddings)"
   ]
  },
  {
   "cell_type": "code",
   "execution_count": 5,
   "metadata": {},
   "outputs": [],
   "source": [
    "from langchain.chains.combine_documents import create_stuff_documents_chain\n",
    "from langchain_core.prompts import ChatPromptTemplate\n",
    "from langchain_openai import ChatOpenAI\n",
    "\n",
    "llm = ChatOpenAI()\n",
    "prompt = ChatPromptTemplate.from_template(\"\"\"Answer the following question based only on the provided context:\n",
    "\n",
    "<context>\n",
    "{context}\n",
    "</context>\n",
    "\n",
    "Question: {input}\"\"\")\n",
    "\n",
    "document_chain = create_stuff_documents_chain(llm, prompt)"
   ]
  },
  {
   "cell_type": "code",
   "execution_count": 6,
   "metadata": {},
   "outputs": [],
   "source": [
    "from langchain.chains import create_retrieval_chain\n",
    "\n",
    "retriever = vector.as_retriever()\n",
    "retrieval_chain = create_retrieval_chain(retriever, document_chain)"
   ]
  },
  {
   "cell_type": "code",
   "execution_count": 7,
   "metadata": {},
   "outputs": [],
   "source": [
    "from langchain.tools.retriever import create_retriever_tool\n",
    "\n",
    "retriever_tool = create_retriever_tool(\n",
    "    retriever,\n",
    "    \"langsmith_search\",\n",
    "    \"Search for information about LangSmith. For any questions about LangSmith, you must use this tool!\",\n",
    ")"
   ]
  },
  {
   "cell_type": "code",
   "execution_count": 9,
   "metadata": {},
   "outputs": [],
   "source": [
    "from langchain_community.tools.tavily_search import TavilySearchResults\n",
    "from dotenv import load_dotenv\n",
    "\n",
    "load_dotenv()\n",
    "\n",
    "search = TavilySearchResults()"
   ]
  },
  {
   "cell_type": "code",
   "execution_count": 10,
   "metadata": {},
   "outputs": [],
   "source": [
    "tools = [retriever_tool, search]"
   ]
  },
  {
   "cell_type": "code",
   "execution_count": 12,
   "metadata": {},
   "outputs": [],
   "source": [
    "from langchain_openai import ChatOpenAI\n",
    "from langchain import hub\n",
    "from langchain.agents import create_openai_functions_agent\n",
    "from langchain.agents import AgentExecutor\n",
    "\n",
    "# Get the propmt to use\n",
    "prompt = hub.pull(\"hwchase17/openai-functions-agent\")\n",
    "llm = ChatOpenAI(model=\"gpt-3.5-turbo\", temperature=0)\n",
    "agent = create_openai_functions_agent(llm, tools, prompt)\n",
    "agent_executor = AgentExecutor(agent=agent, tools=tools, verbose=True)"
   ]
  },
  {
   "cell_type": "code",
   "execution_count": 13,
   "metadata": {},
   "outputs": [
    {
     "name": "stdout",
     "output_type": "stream",
     "text": [
      "\n",
      "\n",
      "\u001b[1m> Entering new AgentExecutor chain...\u001b[0m\n",
      "\u001b[32;1m\u001b[1;3mLangSmith can help with testing in several ways:\n",
      "\n",
      "1. Test Case Generation: LangSmith can generate test cases automatically based on the specifications of the software being tested. It uses advanced techniques such as symbolic execution and constraint solving to generate test inputs that cover different execution paths and edge cases.\n",
      "\n",
      "2. Test Oracles: LangSmith can help in defining test oracles, which are the expected outputs or behaviors of the software under test. It can analyze the specifications and requirements of the software to automatically generate assertions or checks that can be used as test oracles.\n",
      "\n",
      "3. Test Coverage Analysis: LangSmith can analyze the code coverage of the test cases to determine which parts of the software have been exercised during testing. This helps in identifying areas of the code that have not been adequately tested and may require additional test cases.\n",
      "\n",
      "4. Test Prioritization: LangSmith can prioritize the execution of test cases based on their likelihood of finding bugs or their impact on the system. This helps in optimizing the testing process by focusing on the most critical or high-risk areas of the software.\n",
      "\n",
      "5. Test Result Analysis: LangSmith can analyze the results of the test cases to identify patterns or trends that may indicate the presence of bugs or performance issues. It can also provide insights into the root causes of failures and suggest possible fixes or improvements.\n",
      "\n",
      "Overall, LangSmith can assist in automating and optimizing various aspects of the testing process, leading to more efficient and effective testing of software systems.\u001b[0m\n",
      "\n",
      "\u001b[1m> Finished chain.\u001b[0m\n"
     ]
    },
    {
     "data": {
      "text/plain": [
       "{'input': 'how can langsmith help with testing?',\n",
       " 'output': 'LangSmith can help with testing in several ways:\\n\\n1. Test Case Generation: LangSmith can generate test cases automatically based on the specifications of the software being tested. It uses advanced techniques such as symbolic execution and constraint solving to generate test inputs that cover different execution paths and edge cases.\\n\\n2. Test Oracles: LangSmith can help in defining test oracles, which are the expected outputs or behaviors of the software under test. It can analyze the specifications and requirements of the software to automatically generate assertions or checks that can be used as test oracles.\\n\\n3. Test Coverage Analysis: LangSmith can analyze the code coverage of the test cases to determine which parts of the software have been exercised during testing. This helps in identifying areas of the code that have not been adequately tested and may require additional test cases.\\n\\n4. Test Prioritization: LangSmith can prioritize the execution of test cases based on their likelihood of finding bugs or their impact on the system. This helps in optimizing the testing process by focusing on the most critical or high-risk areas of the software.\\n\\n5. Test Result Analysis: LangSmith can analyze the results of the test cases to identify patterns or trends that may indicate the presence of bugs or performance issues. It can also provide insights into the root causes of failures and suggest possible fixes or improvements.\\n\\nOverall, LangSmith can assist in automating and optimizing various aspects of the testing process, leading to more efficient and effective testing of software systems.'}"
      ]
     },
     "execution_count": 13,
     "metadata": {},
     "output_type": "execute_result"
    }
   ],
   "source": [
    "agent_executor.invoke({\"input\": \"how can langsmith help with testing?\"})"
   ]
  },
  {
   "cell_type": "code",
   "execution_count": 14,
   "metadata": {},
   "outputs": [
    {
     "name": "stdout",
     "output_type": "stream",
     "text": [
      "\n",
      "\n",
      "\u001b[1m> Entering new AgentExecutor chain...\u001b[0m\n",
      "\u001b[32;1m\u001b[1;3m\n",
      "Invoking: `tavily_search_results_json` with `{'query': 'weather in Peshawar'}`\n",
      "\n",
      "\n",
      "\u001b[0m\u001b[33;1m\u001b[1;3m[{'url': 'https://www.bolnews.com/pakistan/2024/02/latest-weather-update-peshawar-khyber-pakhtunkhwa/', 'content': \"loading.... Latest weather update Peshawar, Khyber Pakhtunkhwa 10th Feb, 2024. 12:51 pm Share Listen Font size  Latest weather update Peshawar, Khyber Pakhtunkhwa  Looking towards the weekend, Peshawar anticipates days filled with enjoyable weather despite lingering air quality  Listen Font size Dark Mode Save Print Latest weather update Peshawar, Khyber PakhtunkhwaAs the week unfolds, Peshawar maintains its promise of enjoyable weather, with temperatures hovering around 22°C to 25°C. Despite occasional fluctuations, the forecast remains optimistic, with plenty of sunshine anticipated to grace the city's skies. Whether it's exploring the rich cultural heritage of the Old City or savoring traditional ...\"}, {'url': 'https://www.metoffice.gov.uk/weather/forecast/tw51sgs68', 'content': 'Wed 14 Feb Thu 15 Feb Thu 15 Feb Fri 16 Feb Fri 16 Feb Sat 17 Feb Sat 17 Feb Eight day forecast for Peshawar  Peshawar (Pakistan) weather Find a forecast Please choose your location from the nearest places to : Forecast days  Forecast days Today Today Sun 11 Feb Sun 11 Feb Mon 12 Feb Mon 12 Feb Tue 13 Feb Tue 13 Feb Wed 14 Feb Wed 14 Feb  as sleet, snow, hail or drizzle) will fall from the sky at a certain time.Peshawar 7 day weather forecast including weather warnings, temperature, rain, wind, visibility, humidity and UV ... (10 February 2024) Time 02:00 05:00 08:00 11:00 14:00 17:00 20:00 23:00 Weather symbols: Chance of precipitation i <5% ... 02:00 Weather symbols:'}, {'url': 'https://weather.com/en-PK/weather/tenday/l/Peshawar+Khyber+Pakhtunkhwa?canonicalCityId=d5b95fd36c0efc1bbd0d5f964979f297c6e1f82ee40dc00ba45a1550e08d0b08', 'content': 'recents Special Forecasts 10-Day Weather-Peshawar, Khyber Pakhtunkhwa Tonight Sat 10 | Night  © The Weather Company, LLC 2024  Sun 18 | Night Showers. Low 10°C. Winds WSW and variable. Chance of rain 40%. Mon 19 Mon 19 | Day  Sat 24 | Night Mostly cloudy. Low 10°C. Winds WSW and variable. Radar10-day weather forecast for Peshawar, Khyber Pakhtunkhwa - The Weather Channel | weather.com 10-Day Weather - Peshawar, Khyber Pakhtunkhwa As of 02:08 PKT Tonight --/ 4° 1% Mon 05...'}, {'url': 'https://weather.com/weather/tenday/l/Peshawar+Khyber+Pakhtunkhwa+Pakistan?canonicalCityId=d5b95fd36c0efc1bbd0d5f964979f297c6e1f82ee40dc00ba45a1550e08d0b08', 'content': 'recents Specialty Forecasts 10 Day Weather-Peshawar, Khyber Pakhtunkhwa, Pakistan Tonight Sat 10 | Night  © The Weather Company, LLC 2024  Sat 10 | Night Generally clear skies. Low 42F. Winds light and variable. Sun 11 Sun 11 | Day  mph. Chance of rain 40%.Be prepared with the most accurate 10-day forecast for Peshawar, Khyber Pakhtunkhwa, Pakistan with highs, lows, chance of precipitation from The Weather Channel and Weather.com'}]\u001b[0m\u001b[32;1m\u001b[1;3mThe weather in Peshawar is currently around 22°C to 25°C with plenty of sunshine. The forecast for the upcoming days remains optimistic with enjoyable weather expected.\u001b[0m\n",
      "\n",
      "\u001b[1m> Finished chain.\u001b[0m\n"
     ]
    },
    {
     "data": {
      "text/plain": [
       "{'input': 'what is the weather in Peshawar?',\n",
       " 'output': 'The weather in Peshawar is currently around 22°C to 25°C with plenty of sunshine. The forecast for the upcoming days remains optimistic with enjoyable weather expected.'}"
      ]
     },
     "execution_count": 14,
     "metadata": {},
     "output_type": "execute_result"
    }
   ],
   "source": [
    "agent_executor.invoke({\"input\": \"what is the weather in Peshawar?\"})"
   ]
  },
  {
   "cell_type": "code",
   "execution_count": null,
   "metadata": {},
   "outputs": [],
   "source": []
  }
 ],
 "metadata": {
  "kernelspec": {
   "display_name": "venv",
   "language": "python",
   "name": "python3"
  },
  "language_info": {
   "codemirror_mode": {
    "name": "ipython",
    "version": 3
   },
   "file_extension": ".py",
   "mimetype": "text/x-python",
   "name": "python",
   "nbconvert_exporter": "python",
   "pygments_lexer": "ipython3",
   "version": "3.10.11"
  },
  "orig_nbformat": 4
 },
 "nbformat": 4,
 "nbformat_minor": 2
}
